{
 "cells": [
  {
   "cell_type": "code",
   "execution_count": 1,
   "id": "ee2ebec0",
   "metadata": {},
   "outputs": [],
   "source": [
    "import pandas as pd\n",
    "import numpy as np\n",
    "import matplotlib.pyplot as plt"
   ]
  },
  {
   "cell_type": "code",
   "execution_count": 2,
   "id": "aa7cee34",
   "metadata": {},
   "outputs": [],
   "source": [
    "url_LondonHousePrices = \"https://data.london.gov.uk/download/uk-house-price-index/70ac0766-8902-4eb5-aab5-01951aaed773/UK%20House%20price%20index.xls\""
   ]
  },
  {
   "cell_type": "code",
   "execution_count": 3,
   "id": "19f2ad8f",
   "metadata": {},
   "outputs": [],
   "source": [
    "properties= pd.read_excel(url_LondonHousePrices,sheet_name='Average price',index_col=None)\n",
    "#importing correct data set"
   ]
  },
  {
   "cell_type": "code",
   "execution_count": 4,
   "id": "5daed7cd",
   "metadata": {
    "scrolled": true
   },
   "outputs": [],
   "source": [
    "#Cleaning,Transforming, and Visulizing\n",
    "properties = properties.transpose()\n",
    "properties = properties.reset_index()"
   ]
  },
  {
   "cell_type": "code",
   "execution_count": 5,
   "id": "653823fc",
   "metadata": {
    "scrolled": true
   },
   "outputs": [],
   "source": [
    "properties.columns = properties.iloc[0]\n",
    "properties = properties.drop(0)"
   ]
  },
  {
   "cell_type": "code",
   "execution_count": 6,
   "id": "68c458f4",
   "metadata": {},
   "outputs": [],
   "source": [
    "properties = properties.rename(columns={'Unnamed: 0':'Boroughs',pd.NaT:'ID'})"
   ]
  },
  {
   "cell_type": "code",
   "execution_count": 7,
   "id": "174bdc5b",
   "metadata": {},
   "outputs": [
    {
     "data": {
      "text/html": [
       "<div>\n",
       "<style scoped>\n",
       "    .dataframe tbody tr th:only-of-type {\n",
       "        vertical-align: middle;\n",
       "    }\n",
       "\n",
       "    .dataframe tbody tr th {\n",
       "        vertical-align: top;\n",
       "    }\n",
       "\n",
       "    .dataframe thead th {\n",
       "        text-align: right;\n",
       "    }\n",
       "</style>\n",
       "<table border=\"1\" class=\"dataframe\">\n",
       "  <thead>\n",
       "    <tr style=\"text-align: right;\">\n",
       "      <th></th>\n",
       "      <th>Boroughs</th>\n",
       "      <th>ID</th>\n",
       "      <th>1995-01-01 00:00:00</th>\n",
       "      <th>1995-02-01 00:00:00</th>\n",
       "      <th>1995-03-01 00:00:00</th>\n",
       "      <th>1995-04-01 00:00:00</th>\n",
       "      <th>1995-05-01 00:00:00</th>\n",
       "      <th>1995-06-01 00:00:00</th>\n",
       "      <th>1995-07-01 00:00:00</th>\n",
       "      <th>1995-08-01 00:00:00</th>\n",
       "      <th>...</th>\n",
       "      <th>2020-11-01 00:00:00</th>\n",
       "      <th>2020-12-01 00:00:00</th>\n",
       "      <th>2021-01-01 00:00:00</th>\n",
       "      <th>2021-02-01 00:00:00</th>\n",
       "      <th>2021-03-01 00:00:00</th>\n",
       "      <th>2021-04-01 00:00:00</th>\n",
       "      <th>2021-05-01 00:00:00</th>\n",
       "      <th>2021-06-01 00:00:00</th>\n",
       "      <th>2021-07-01 00:00:00</th>\n",
       "      <th>2021-08-01 00:00:00</th>\n",
       "    </tr>\n",
       "  </thead>\n",
       "  <tbody>\n",
       "    <tr>\n",
       "      <th>1</th>\n",
       "      <td>City of London</td>\n",
       "      <td>E09000001</td>\n",
       "      <td>91448.98487</td>\n",
       "      <td>82202.77314</td>\n",
       "      <td>79120.70256</td>\n",
       "      <td>77101.20804</td>\n",
       "      <td>84409.14932</td>\n",
       "      <td>94900.51244</td>\n",
       "      <td>110128.0423</td>\n",
       "      <td>112329.4376</td>\n",
       "      <td>...</td>\n",
       "      <td>769391.7847</td>\n",
       "      <td>801999.0466</td>\n",
       "      <td>754435.3943</td>\n",
       "      <td>726332.3166</td>\n",
       "      <td>716776.9539</td>\n",
       "      <td>741942.5522</td>\n",
       "      <td>735180.7726</td>\n",
       "      <td>756917.4193</td>\n",
       "      <td>-</td>\n",
       "      <td>-</td>\n",
       "    </tr>\n",
       "    <tr>\n",
       "      <th>2</th>\n",
       "      <td>Barking &amp; Dagenham</td>\n",
       "      <td>E09000002</td>\n",
       "      <td>50460.2266</td>\n",
       "      <td>51085.77983</td>\n",
       "      <td>51268.96956</td>\n",
       "      <td>53133.50526</td>\n",
       "      <td>53042.24852</td>\n",
       "      <td>53700.34831</td>\n",
       "      <td>52113.12157</td>\n",
       "      <td>52232.19868</td>\n",
       "      <td>...</td>\n",
       "      <td>305012.3291</td>\n",
       "      <td>309560.1023</td>\n",
       "      <td>312131.7237</td>\n",
       "      <td>315701.6799</td>\n",
       "      <td>312395.9053</td>\n",
       "      <td>313831.2545</td>\n",
       "      <td>312673.148</td>\n",
       "      <td>319377.6095</td>\n",
       "      <td>327925.9228</td>\n",
       "      <td>334219.3443</td>\n",
       "    </tr>\n",
       "    <tr>\n",
       "      <th>3</th>\n",
       "      <td>Barnet</td>\n",
       "      <td>E09000003</td>\n",
       "      <td>93284.51832</td>\n",
       "      <td>93190.16963</td>\n",
       "      <td>92247.52435</td>\n",
       "      <td>90762.87492</td>\n",
       "      <td>90258.00033</td>\n",
       "      <td>90107.23471</td>\n",
       "      <td>91441.24768</td>\n",
       "      <td>92361.31512</td>\n",
       "      <td>...</td>\n",
       "      <td>528816.4928</td>\n",
       "      <td>532528.0926</td>\n",
       "      <td>537565.6817</td>\n",
       "      <td>536076.0209</td>\n",
       "      <td>537209.2152</td>\n",
       "      <td>530829.6739</td>\n",
       "      <td>533047.739</td>\n",
       "      <td>544260.2024</td>\n",
       "      <td>536408.783</td>\n",
       "      <td>552793.0944</td>\n",
       "    </tr>\n",
       "    <tr>\n",
       "      <th>4</th>\n",
       "      <td>Bexley</td>\n",
       "      <td>E09000004</td>\n",
       "      <td>64958.09036</td>\n",
       "      <td>64787.92069</td>\n",
       "      <td>64367.49344</td>\n",
       "      <td>64277.66881</td>\n",
       "      <td>63997.13588</td>\n",
       "      <td>64252.32335</td>\n",
       "      <td>63722.70055</td>\n",
       "      <td>64432.60005</td>\n",
       "      <td>...</td>\n",
       "      <td>346252.9145</td>\n",
       "      <td>352260.8385</td>\n",
       "      <td>355505.8363</td>\n",
       "      <td>358862.3645</td>\n",
       "      <td>361550.8435</td>\n",
       "      <td>362668.366</td>\n",
       "      <td>362279.7488</td>\n",
       "      <td>364125.0704</td>\n",
       "      <td>366331.8295</td>\n",
       "      <td>372338.2445</td>\n",
       "    </tr>\n",
       "    <tr>\n",
       "      <th>5</th>\n",
       "      <td>Brent</td>\n",
       "      <td>E09000005</td>\n",
       "      <td>71306.56698</td>\n",
       "      <td>72022.26197</td>\n",
       "      <td>72015.76274</td>\n",
       "      <td>72965.63094</td>\n",
       "      <td>73704.04743</td>\n",
       "      <td>74310.48167</td>\n",
       "      <td>74127.03788</td>\n",
       "      <td>73547.0411</td>\n",
       "      <td>...</td>\n",
       "      <td>513100.814</td>\n",
       "      <td>495066.6459</td>\n",
       "      <td>512403.8815</td>\n",
       "      <td>515714.1147</td>\n",
       "      <td>522138.5009</td>\n",
       "      <td>504846.3351</td>\n",
       "      <td>511237.093</td>\n",
       "      <td>516787.4064</td>\n",
       "      <td>522216.2429</td>\n",
       "      <td>516259.6453</td>\n",
       "    </tr>\n",
       "  </tbody>\n",
       "</table>\n",
       "<p>5 rows × 322 columns</p>\n",
       "</div>"
      ],
      "text/plain": [
       "0            Boroughs         ID 1995-01-01 00:00:00 1995-02-01 00:00:00  \\\n",
       "1      City of London  E09000001         91448.98487         82202.77314   \n",
       "2  Barking & Dagenham  E09000002          50460.2266         51085.77983   \n",
       "3              Barnet  E09000003         93284.51832         93190.16963   \n",
       "4              Bexley  E09000004         64958.09036         64787.92069   \n",
       "5               Brent  E09000005         71306.56698         72022.26197   \n",
       "\n",
       "0 1995-03-01 00:00:00 1995-04-01 00:00:00 1995-05-01 00:00:00  \\\n",
       "1         79120.70256         77101.20804         84409.14932   \n",
       "2         51268.96956         53133.50526         53042.24852   \n",
       "3         92247.52435         90762.87492         90258.00033   \n",
       "4         64367.49344         64277.66881         63997.13588   \n",
       "5         72015.76274         72965.63094         73704.04743   \n",
       "\n",
       "0 1995-06-01 00:00:00 1995-07-01 00:00:00 1995-08-01 00:00:00  ...  \\\n",
       "1         94900.51244         110128.0423         112329.4376  ...   \n",
       "2         53700.34831         52113.12157         52232.19868  ...   \n",
       "3         90107.23471         91441.24768         92361.31512  ...   \n",
       "4         64252.32335         63722.70055         64432.60005  ...   \n",
       "5         74310.48167         74127.03788          73547.0411  ...   \n",
       "\n",
       "0 2020-11-01 00:00:00 2020-12-01 00:00:00 2021-01-01 00:00:00  \\\n",
       "1         769391.7847         801999.0466         754435.3943   \n",
       "2         305012.3291         309560.1023         312131.7237   \n",
       "3         528816.4928         532528.0926         537565.6817   \n",
       "4         346252.9145         352260.8385         355505.8363   \n",
       "5          513100.814         495066.6459         512403.8815   \n",
       "\n",
       "0 2021-02-01 00:00:00 2021-03-01 00:00:00 2021-04-01 00:00:00  \\\n",
       "1         726332.3166         716776.9539         741942.5522   \n",
       "2         315701.6799         312395.9053         313831.2545   \n",
       "3         536076.0209         537209.2152         530829.6739   \n",
       "4         358862.3645         361550.8435          362668.366   \n",
       "5         515714.1147         522138.5009         504846.3351   \n",
       "\n",
       "0 2021-05-01 00:00:00 2021-06-01 00:00:00 2021-07-01 00:00:00  \\\n",
       "1         735180.7726         756917.4193                   -   \n",
       "2          312673.148         319377.6095         327925.9228   \n",
       "3          533047.739         544260.2024          536408.783   \n",
       "4         362279.7488         364125.0704         366331.8295   \n",
       "5          511237.093         516787.4064         522216.2429   \n",
       "\n",
       "0 2021-08-01 00:00:00  \n",
       "1                   -  \n",
       "2         334219.3443  \n",
       "3         552793.0944  \n",
       "4         372338.2445  \n",
       "5         516259.6453  \n",
       "\n",
       "[5 rows x 322 columns]"
      ]
     },
     "execution_count": 7,
     "metadata": {},
     "output_type": "execute_result"
    }
   ],
   "source": [
    "properties.head()"
   ]
  },
  {
   "cell_type": "code",
   "execution_count": 8,
   "id": "5d5c4400",
   "metadata": {},
   "outputs": [],
   "source": [
    "properties = pd.melt(properties,id_vars=['Boroughs','ID'])"
   ]
  },
  {
   "cell_type": "code",
   "execution_count": 9,
   "id": "13e5f5c9",
   "metadata": {},
   "outputs": [
    {
     "data": {
      "text/html": [
       "<div>\n",
       "<style scoped>\n",
       "    .dataframe tbody tr th:only-of-type {\n",
       "        vertical-align: middle;\n",
       "    }\n",
       "\n",
       "    .dataframe tbody tr th {\n",
       "        vertical-align: top;\n",
       "    }\n",
       "\n",
       "    .dataframe thead th {\n",
       "        text-align: right;\n",
       "    }\n",
       "</style>\n",
       "<table border=\"1\" class=\"dataframe\">\n",
       "  <thead>\n",
       "    <tr style=\"text-align: right;\">\n",
       "      <th></th>\n",
       "      <th>Boroughs</th>\n",
       "      <th>ID</th>\n",
       "      <th>0</th>\n",
       "      <th>value</th>\n",
       "    </tr>\n",
       "  </thead>\n",
       "  <tbody>\n",
       "    <tr>\n",
       "      <th>0</th>\n",
       "      <td>City of London</td>\n",
       "      <td>E09000001</td>\n",
       "      <td>1995-01-01</td>\n",
       "      <td>91448.98487</td>\n",
       "    </tr>\n",
       "    <tr>\n",
       "      <th>1</th>\n",
       "      <td>Barking &amp; Dagenham</td>\n",
       "      <td>E09000002</td>\n",
       "      <td>1995-01-01</td>\n",
       "      <td>50460.2266</td>\n",
       "    </tr>\n",
       "    <tr>\n",
       "      <th>2</th>\n",
       "      <td>Barnet</td>\n",
       "      <td>E09000003</td>\n",
       "      <td>1995-01-01</td>\n",
       "      <td>93284.51832</td>\n",
       "    </tr>\n",
       "    <tr>\n",
       "      <th>3</th>\n",
       "      <td>Bexley</td>\n",
       "      <td>E09000004</td>\n",
       "      <td>1995-01-01</td>\n",
       "      <td>64958.09036</td>\n",
       "    </tr>\n",
       "    <tr>\n",
       "      <th>4</th>\n",
       "      <td>Brent</td>\n",
       "      <td>E09000005</td>\n",
       "      <td>1995-01-01</td>\n",
       "      <td>71306.56698</td>\n",
       "    </tr>\n",
       "  </tbody>\n",
       "</table>\n",
       "</div>"
      ],
      "text/plain": [
       "             Boroughs         ID          0        value\n",
       "0      City of London  E09000001 1995-01-01  91448.98487\n",
       "1  Barking & Dagenham  E09000002 1995-01-01   50460.2266\n",
       "2              Barnet  E09000003 1995-01-01  93284.51832\n",
       "3              Bexley  E09000004 1995-01-01  64958.09036\n",
       "4               Brent  E09000005 1995-01-01  71306.56698"
      ]
     },
     "execution_count": 9,
     "metadata": {},
     "output_type": "execute_result"
    }
   ],
   "source": [
    "properties.head()"
   ]
  },
  {
   "cell_type": "code",
   "execution_count": 10,
   "id": "cd221e91",
   "metadata": {
    "scrolled": true
   },
   "outputs": [],
   "source": [
    "properties = properties.rename(columns={0:'Month_Year','value':'Average_price'})"
   ]
  },
  {
   "cell_type": "code",
   "execution_count": 11,
   "id": "a1ea50ba",
   "metadata": {},
   "outputs": [],
   "source": [
    "properties['Average_price']= pd.to_numeric(properties['Average_price'],errors = 'coerce')"
   ]
  },
  {
   "cell_type": "code",
   "execution_count": 12,
   "id": "232815ba",
   "metadata": {},
   "outputs": [
    {
     "data": {
      "text/plain": [
       "Boroughs                 object\n",
       "ID                       object\n",
       "Month_Year       datetime64[ns]\n",
       "Average_price           float64\n",
       "dtype: object"
      ]
     },
     "execution_count": 12,
     "metadata": {},
     "output_type": "execute_result"
    }
   ],
   "source": [
    "properties.dtypes"
   ]
  },
  {
   "cell_type": "code",
   "execution_count": 13,
   "id": "fa868bda",
   "metadata": {},
   "outputs": [
    {
     "data": {
      "text/plain": [
       "array(['City of London', 'Barking & Dagenham', 'Barnet', 'Bexley',\n",
       "       'Brent', 'Bromley', 'Camden', 'Croydon', 'Ealing', 'Enfield',\n",
       "       'Greenwich', 'Hackney', 'Hammersmith & Fulham', 'Haringey',\n",
       "       'Harrow', 'Havering', 'Hillingdon', 'Hounslow', 'Islington',\n",
       "       'Kensington & Chelsea', 'Kingston upon Thames', 'Lambeth',\n",
       "       'Lewisham', 'Merton', 'Newham', 'Redbridge',\n",
       "       'Richmond upon Thames', 'Southwark', 'Sutton', 'Tower Hamlets',\n",
       "       'Waltham Forest', 'Wandsworth', 'Westminster', 'Unnamed: 34',\n",
       "       'Inner London', 'Outer London', 'Unnamed: 37', 'NORTH EAST',\n",
       "       'NORTH WEST', 'YORKS & THE HUMBER', 'EAST MIDLANDS',\n",
       "       'WEST MIDLANDS', 'EAST OF ENGLAND', 'LONDON', 'SOUTH EAST',\n",
       "       'SOUTH WEST', 'Unnamed: 47', 'England'], dtype=object)"
      ]
     },
     "execution_count": 13,
     "metadata": {},
     "output_type": "execute_result"
    }
   ],
   "source": [
    "properties['Boroughs'].unique()"
   ]
  },
  {
   "cell_type": "code",
   "execution_count": 14,
   "id": "bb45540f",
   "metadata": {},
   "outputs": [
    {
     "data": {
      "text/html": [
       "<div>\n",
       "<style scoped>\n",
       "    .dataframe tbody tr th:only-of-type {\n",
       "        vertical-align: middle;\n",
       "    }\n",
       "\n",
       "    .dataframe tbody tr th {\n",
       "        vertical-align: top;\n",
       "    }\n",
       "\n",
       "    .dataframe thead th {\n",
       "        text-align: right;\n",
       "    }\n",
       "</style>\n",
       "<table border=\"1\" class=\"dataframe\">\n",
       "  <thead>\n",
       "    <tr style=\"text-align: right;\">\n",
       "      <th></th>\n",
       "      <th>Boroughs</th>\n",
       "      <th>ID</th>\n",
       "      <th>Month_Year</th>\n",
       "      <th>Average_price</th>\n",
       "    </tr>\n",
       "  </thead>\n",
       "  <tbody>\n",
       "    <tr>\n",
       "      <th>33</th>\n",
       "      <td>Unnamed: 34</td>\n",
       "      <td>NaN</td>\n",
       "      <td>1995-01-01</td>\n",
       "      <td>NaN</td>\n",
       "    </tr>\n",
       "    <tr>\n",
       "      <th>36</th>\n",
       "      <td>Unnamed: 37</td>\n",
       "      <td>NaN</td>\n",
       "      <td>1995-01-01</td>\n",
       "      <td>NaN</td>\n",
       "    </tr>\n",
       "    <tr>\n",
       "      <th>46</th>\n",
       "      <td>Unnamed: 47</td>\n",
       "      <td>NaN</td>\n",
       "      <td>1995-01-01</td>\n",
       "      <td>NaN</td>\n",
       "    </tr>\n",
       "    <tr>\n",
       "      <th>81</th>\n",
       "      <td>Unnamed: 34</td>\n",
       "      <td>NaN</td>\n",
       "      <td>1995-02-01</td>\n",
       "      <td>NaN</td>\n",
       "    </tr>\n",
       "    <tr>\n",
       "      <th>84</th>\n",
       "      <td>Unnamed: 37</td>\n",
       "      <td>NaN</td>\n",
       "      <td>1995-02-01</td>\n",
       "      <td>NaN</td>\n",
       "    </tr>\n",
       "    <tr>\n",
       "      <th>...</th>\n",
       "      <td>...</td>\n",
       "      <td>...</td>\n",
       "      <td>...</td>\n",
       "      <td>...</td>\n",
       "    </tr>\n",
       "    <tr>\n",
       "      <th>15300</th>\n",
       "      <td>Unnamed: 37</td>\n",
       "      <td>NaN</td>\n",
       "      <td>2021-07-01</td>\n",
       "      <td>NaN</td>\n",
       "    </tr>\n",
       "    <tr>\n",
       "      <th>15310</th>\n",
       "      <td>Unnamed: 47</td>\n",
       "      <td>NaN</td>\n",
       "      <td>2021-07-01</td>\n",
       "      <td>NaN</td>\n",
       "    </tr>\n",
       "    <tr>\n",
       "      <th>15345</th>\n",
       "      <td>Unnamed: 34</td>\n",
       "      <td>NaN</td>\n",
       "      <td>2021-08-01</td>\n",
       "      <td>NaN</td>\n",
       "    </tr>\n",
       "    <tr>\n",
       "      <th>15348</th>\n",
       "      <td>Unnamed: 37</td>\n",
       "      <td>NaN</td>\n",
       "      <td>2021-08-01</td>\n",
       "      <td>NaN</td>\n",
       "    </tr>\n",
       "    <tr>\n",
       "      <th>15358</th>\n",
       "      <td>Unnamed: 47</td>\n",
       "      <td>NaN</td>\n",
       "      <td>2021-08-01</td>\n",
       "      <td>NaN</td>\n",
       "    </tr>\n",
       "  </tbody>\n",
       "</table>\n",
       "<p>960 rows × 4 columns</p>\n",
       "</div>"
      ],
      "text/plain": [
       "          Boroughs   ID Month_Year  Average_price\n",
       "33     Unnamed: 34  NaN 1995-01-01            NaN\n",
       "36     Unnamed: 37  NaN 1995-01-01            NaN\n",
       "46     Unnamed: 47  NaN 1995-01-01            NaN\n",
       "81     Unnamed: 34  NaN 1995-02-01            NaN\n",
       "84     Unnamed: 37  NaN 1995-02-01            NaN\n",
       "...            ...  ...        ...            ...\n",
       "15300  Unnamed: 37  NaN 2021-07-01            NaN\n",
       "15310  Unnamed: 47  NaN 2021-07-01            NaN\n",
       "15345  Unnamed: 34  NaN 2021-08-01            NaN\n",
       "15348  Unnamed: 37  NaN 2021-08-01            NaN\n",
       "15358  Unnamed: 47  NaN 2021-08-01            NaN\n",
       "\n",
       "[960 rows x 4 columns]"
      ]
     },
     "execution_count": 14,
     "metadata": {},
     "output_type": "execute_result"
    }
   ],
   "source": [
    "properties[properties['ID'].isna()]"
   ]
  },
  {
   "cell_type": "code",
   "execution_count": 15,
   "id": "20c853e3",
   "metadata": {},
   "outputs": [],
   "source": [
    "properties = properties.dropna()"
   ]
  },
  {
   "cell_type": "code",
   "execution_count": 16,
   "id": "964fd9a4",
   "metadata": {},
   "outputs": [
    {
     "data": {
      "text/html": [
       "<div>\n",
       "<style scoped>\n",
       "    .dataframe tbody tr th:only-of-type {\n",
       "        vertical-align: middle;\n",
       "    }\n",
       "\n",
       "    .dataframe tbody tr th {\n",
       "        vertical-align: top;\n",
       "    }\n",
       "\n",
       "    .dataframe thead th {\n",
       "        text-align: right;\n",
       "    }\n",
       "</style>\n",
       "<table border=\"1\" class=\"dataframe\">\n",
       "  <thead>\n",
       "    <tr style=\"text-align: right;\">\n",
       "      <th></th>\n",
       "      <th>Boroughs</th>\n",
       "      <th>ID</th>\n",
       "      <th>Month_Year</th>\n",
       "      <th>Average_price</th>\n",
       "    </tr>\n",
       "  </thead>\n",
       "  <tbody>\n",
       "  </tbody>\n",
       "</table>\n",
       "</div>"
      ],
      "text/plain": [
       "Empty DataFrame\n",
       "Columns: [Boroughs, ID, Month_Year, Average_price]\n",
       "Index: []"
      ]
     },
     "execution_count": 16,
     "metadata": {},
     "output_type": "execute_result"
    }
   ],
   "source": [
    "properties[properties['ID'].isna()]"
   ]
  },
  {
   "cell_type": "code",
   "execution_count": 17,
   "id": "59dbc936",
   "metadata": {},
   "outputs": [
    {
     "data": {
      "text/plain": [
       "array(['City of London', 'Barking & Dagenham', 'Barnet', 'Bexley',\n",
       "       'Brent', 'Bromley', 'Camden', 'Croydon', 'Ealing', 'Enfield',\n",
       "       'Greenwich', 'Hackney', 'Hammersmith & Fulham', 'Haringey',\n",
       "       'Harrow', 'Havering', 'Hillingdon', 'Hounslow', 'Islington',\n",
       "       'Kensington & Chelsea', 'Kingston upon Thames', 'Lambeth',\n",
       "       'Lewisham', 'Merton', 'Newham', 'Redbridge',\n",
       "       'Richmond upon Thames', 'Southwark', 'Sutton', 'Tower Hamlets',\n",
       "       'Waltham Forest', 'Wandsworth', 'Westminster', 'Inner London',\n",
       "       'Outer London', 'NORTH EAST', 'NORTH WEST', 'YORKS & THE HUMBER',\n",
       "       'EAST MIDLANDS', 'WEST MIDLANDS', 'EAST OF ENGLAND', 'LONDON',\n",
       "       'SOUTH EAST', 'SOUTH WEST', 'England'], dtype=object)"
      ]
     },
     "execution_count": 17,
     "metadata": {},
     "output_type": "execute_result"
    }
   ],
   "source": [
    "properties['Boroughs'].unique()"
   ]
  },
  {
   "cell_type": "code",
   "execution_count": 18,
   "id": "e1c2cf3e",
   "metadata": {},
   "outputs": [],
   "source": [
    "Not_boroughs = ['Inner London',\n",
    "       'Outer London', 'NORTH EAST', 'NORTH WEST', 'YORKS & THE HUMBER',\n",
    "       'EAST MIDLANDS', 'WEST MIDLANDS', 'EAST OF ENGLAND', 'LONDON',\n",
    "       'SOUTH EAST', 'SOUTH WEST', 'England']"
   ]
  },
  {
   "cell_type": "code",
   "execution_count": 19,
   "id": "62c66956",
   "metadata": {},
   "outputs": [],
   "source": [
    "Clean_properties = properties[~properties['Boroughs'].isin(Not_boroughs)]"
   ]
  },
  {
   "cell_type": "code",
   "execution_count": 20,
   "id": "8d69cb8c",
   "metadata": {},
   "outputs": [
    {
     "data": {
      "text/html": [
       "<div>\n",
       "<style scoped>\n",
       "    .dataframe tbody tr th:only-of-type {\n",
       "        vertical-align: middle;\n",
       "    }\n",
       "\n",
       "    .dataframe tbody tr th {\n",
       "        vertical-align: top;\n",
       "    }\n",
       "\n",
       "    .dataframe thead th {\n",
       "        text-align: right;\n",
       "    }\n",
       "</style>\n",
       "<table border=\"1\" class=\"dataframe\">\n",
       "  <thead>\n",
       "    <tr style=\"text-align: right;\">\n",
       "      <th></th>\n",
       "      <th>Boroughs</th>\n",
       "      <th>ID</th>\n",
       "      <th>Month_Year</th>\n",
       "      <th>Average_price</th>\n",
       "    </tr>\n",
       "  </thead>\n",
       "  <tbody>\n",
       "    <tr>\n",
       "      <th>0</th>\n",
       "      <td>City of London</td>\n",
       "      <td>E09000001</td>\n",
       "      <td>1995-01-01</td>\n",
       "      <td>91448.98487</td>\n",
       "    </tr>\n",
       "    <tr>\n",
       "      <th>1</th>\n",
       "      <td>Barking &amp; Dagenham</td>\n",
       "      <td>E09000002</td>\n",
       "      <td>1995-01-01</td>\n",
       "      <td>50460.22660</td>\n",
       "    </tr>\n",
       "    <tr>\n",
       "      <th>2</th>\n",
       "      <td>Barnet</td>\n",
       "      <td>E09000003</td>\n",
       "      <td>1995-01-01</td>\n",
       "      <td>93284.51832</td>\n",
       "    </tr>\n",
       "    <tr>\n",
       "      <th>3</th>\n",
       "      <td>Bexley</td>\n",
       "      <td>E09000004</td>\n",
       "      <td>1995-01-01</td>\n",
       "      <td>64958.09036</td>\n",
       "    </tr>\n",
       "    <tr>\n",
       "      <th>4</th>\n",
       "      <td>Brent</td>\n",
       "      <td>E09000005</td>\n",
       "      <td>1995-01-01</td>\n",
       "      <td>71306.56698</td>\n",
       "    </tr>\n",
       "  </tbody>\n",
       "</table>\n",
       "</div>"
      ],
      "text/plain": [
       "             Boroughs         ID Month_Year  Average_price\n",
       "0      City of London  E09000001 1995-01-01    91448.98487\n",
       "1  Barking & Dagenham  E09000002 1995-01-01    50460.22660\n",
       "2              Barnet  E09000003 1995-01-01    93284.51832\n",
       "3              Bexley  E09000004 1995-01-01    64958.09036\n",
       "4               Brent  E09000005 1995-01-01    71306.56698"
      ]
     },
     "execution_count": 20,
     "metadata": {},
     "output_type": "execute_result"
    }
   ],
   "source": [
    "Clean_properties.head()"
   ]
  },
  {
   "cell_type": "code",
   "execution_count": 21,
   "id": "096e0d69",
   "metadata": {},
   "outputs": [
    {
     "data": {
      "text/plain": [
       "array(['City of London', 'Barking & Dagenham', 'Barnet', 'Bexley',\n",
       "       'Brent', 'Bromley', 'Camden', 'Croydon', 'Ealing', 'Enfield',\n",
       "       'Greenwich', 'Hackney', 'Hammersmith & Fulham', 'Haringey',\n",
       "       'Harrow', 'Havering', 'Hillingdon', 'Hounslow', 'Islington',\n",
       "       'Kensington & Chelsea', 'Kingston upon Thames', 'Lambeth',\n",
       "       'Lewisham', 'Merton', 'Newham', 'Redbridge',\n",
       "       'Richmond upon Thames', 'Southwark', 'Sutton', 'Tower Hamlets',\n",
       "       'Waltham Forest', 'Wandsworth', 'Westminster'], dtype=object)"
      ]
     },
     "execution_count": 21,
     "metadata": {},
     "output_type": "execute_result"
    }
   ],
   "source": [
    "Clean_properties['Boroughs'].unique()\n",
    "#clean dataset"
   ]
  },
  {
   "cell_type": "code",
   "execution_count": 22,
   "id": "c05a7cec",
   "metadata": {},
   "outputs": [
    {
     "data": {
      "text/plain": [
       "<function matplotlib.pyplot.show(close=None, block=None)>"
      ]
     },
     "execution_count": 22,
     "metadata": {},
     "output_type": "execute_result"
    },
    {
     "data": {
      "image/png": "[encoded data removed]",
      "text/plain": [
       "<Figure size 432x288 with 1 Axes>"
      ]
     },
     "metadata": {
      "needs_background": "light"
     },
     "output_type": "display_data"
    }
   ],
   "source": [
    "#visualizing data\n",
    "Brent_prices = Clean_properties[Clean_properties['Boroughs']== 'Brent']\n",
    "Brent_plot= Brent_prices.plot(x='Month_Year',y='Average_price',kind='line')\n",
    "Brent_plot.set_ylabel('Housing_cost')\n",
    "plt.show"
   ]
  },
  {
   "cell_type": "code",
   "execution_count": 23,
   "id": "87cc8d35",
   "metadata": {},
   "outputs": [
    {
     "name": "stderr",
     "output_type": "stream",
     "text": [
      "/var/folders/kd/bwysfml52c98h41vj6wsjspc0000gn/T/ipykernel_7531/391606882.py:1: SettingWithCopyWarning: \n",
      "A value is trying to be set on a copy of a slice from a DataFrame.\n",
      "Try using .loc[row_indexer,col_indexer] = value instead\n",
      "\n",
      "See the caveats in the documentation: https://pandas.pydata.org/pandas-docs/stable/user_guide/indexing.html#returning-a-view-versus-a-copy\n",
      "  Clean_properties['Year']=Clean_properties['Month_Year'].apply(lambda t: t.year)\n"
     ]
    }
   ],
   "source": [
    "Clean_properties['Year']=Clean_properties['Month_Year'].apply(lambda t: t.year)"
   ]
  },
  {
   "cell_type": "code",
   "execution_count": 24,
   "id": "79859682",
   "metadata": {},
   "outputs": [],
   "source": [
    "df= Clean_properties.groupby(by=['Boroughs','Year']).mean()"
   ]
  },
  {
   "cell_type": "code",
   "execution_count": 25,
   "id": "bb826e5f",
   "metadata": {},
   "outputs": [
    {
     "data": {
      "text/html": [
       "<div>\n",
       "<style scoped>\n",
       "    .dataframe tbody tr th:only-of-type {\n",
       "        vertical-align: middle;\n",
       "    }\n",
       "\n",
       "    .dataframe tbody tr th {\n",
       "        vertical-align: top;\n",
       "    }\n",
       "\n",
       "    .dataframe thead th {\n",
       "        text-align: right;\n",
       "    }\n",
       "</style>\n",
       "<table border=\"1\" class=\"dataframe\">\n",
       "  <thead>\n",
       "    <tr style=\"text-align: right;\">\n",
       "      <th></th>\n",
       "      <th></th>\n",
       "      <th>Average_price</th>\n",
       "    </tr>\n",
       "    <tr>\n",
       "      <th>Boroughs</th>\n",
       "      <th>Year</th>\n",
       "      <th></th>\n",
       "    </tr>\n",
       "  </thead>\n",
       "  <tbody>\n",
       "    <tr>\n",
       "      <th rowspan=\"5\" valign=\"top\">Westminster</th>\n",
       "      <th>2017</th>\n",
       "      <td>1.064772e+06</td>\n",
       "    </tr>\n",
       "    <tr>\n",
       "      <th>2018</th>\n",
       "      <td>1.020025e+06</td>\n",
       "    </tr>\n",
       "    <tr>\n",
       "      <th>2019</th>\n",
       "      <td>9.559986e+05</td>\n",
       "    </tr>\n",
       "    <tr>\n",
       "      <th>2020</th>\n",
       "      <td>9.604692e+05</td>\n",
       "    </tr>\n",
       "    <tr>\n",
       "      <th>2021</th>\n",
       "      <td>9.350438e+05</td>\n",
       "    </tr>\n",
       "  </tbody>\n",
       "</table>\n",
       "</div>"
      ],
      "text/plain": [
       "                  Average_price\n",
       "Boroughs    Year               \n",
       "Westminster 2017   1.064772e+06\n",
       "            2018   1.020025e+06\n",
       "            2019   9.559986e+05\n",
       "            2020   9.604692e+05\n",
       "            2021   9.350438e+05"
      ]
     },
     "execution_count": 25,
     "metadata": {},
     "output_type": "execute_result"
    }
   ],
   "source": [
    "df.tail()"
   ]
  },
  {
   "cell_type": "code",
   "execution_count": 26,
   "id": "71e0f1bf",
   "metadata": {},
   "outputs": [
    {
     "data": {
      "text/html": [
       "<div>\n",
       "<style scoped>\n",
       "    .dataframe tbody tr th:only-of-type {\n",
       "        vertical-align: middle;\n",
       "    }\n",
       "\n",
       "    .dataframe tbody tr th {\n",
       "        vertical-align: top;\n",
       "    }\n",
       "\n",
       "    .dataframe thead th {\n",
       "        text-align: right;\n",
       "    }\n",
       "</style>\n",
       "<table border=\"1\" class=\"dataframe\">\n",
       "  <thead>\n",
       "    <tr style=\"text-align: right;\">\n",
       "      <th></th>\n",
       "      <th>Boroughs</th>\n",
       "      <th>Year</th>\n",
       "      <th>Average_price</th>\n",
       "    </tr>\n",
       "  </thead>\n",
       "  <tbody>\n",
       "    <tr>\n",
       "      <th>0</th>\n",
       "      <td>Barking &amp; Dagenham</td>\n",
       "      <td>1995</td>\n",
       "      <td>51817.969390</td>\n",
       "    </tr>\n",
       "    <tr>\n",
       "      <th>1</th>\n",
       "      <td>Barking &amp; Dagenham</td>\n",
       "      <td>1996</td>\n",
       "      <td>51718.192690</td>\n",
       "    </tr>\n",
       "    <tr>\n",
       "      <th>2</th>\n",
       "      <td>Barking &amp; Dagenham</td>\n",
       "      <td>1997</td>\n",
       "      <td>55974.262309</td>\n",
       "    </tr>\n",
       "    <tr>\n",
       "      <th>3</th>\n",
       "      <td>Barking &amp; Dagenham</td>\n",
       "      <td>1998</td>\n",
       "      <td>60285.821083</td>\n",
       "    </tr>\n",
       "    <tr>\n",
       "      <th>4</th>\n",
       "      <td>Barking &amp; Dagenham</td>\n",
       "      <td>1999</td>\n",
       "      <td>65320.934441</td>\n",
       "    </tr>\n",
       "  </tbody>\n",
       "</table>\n",
       "</div>"
      ],
      "text/plain": [
       "             Boroughs  Year  Average_price\n",
       "0  Barking & Dagenham  1995   51817.969390\n",
       "1  Barking & Dagenham  1996   51718.192690\n",
       "2  Barking & Dagenham  1997   55974.262309\n",
       "3  Barking & Dagenham  1998   60285.821083\n",
       "4  Barking & Dagenham  1999   65320.934441"
      ]
     },
     "execution_count": 26,
     "metadata": {},
     "output_type": "execute_result"
    }
   ],
   "source": [
    "df=df.reset_index()\n",
    "df.head()"
   ]
  },
  {
   "cell_type": "code",
   "execution_count": 27,
   "id": "d0f02016",
   "metadata": {},
   "outputs": [
    {
     "data": {
      "text/html": [
       "<div>\n",
       "<style scoped>\n",
       "    .dataframe tbody tr th:only-of-type {\n",
       "        vertical-align: middle;\n",
       "    }\n",
       "\n",
       "    .dataframe tbody tr th {\n",
       "        vertical-align: top;\n",
       "    }\n",
       "\n",
       "    .dataframe thead th {\n",
       "        text-align: right;\n",
       "    }\n",
       "</style>\n",
       "<table border=\"1\" class=\"dataframe\">\n",
       "  <thead>\n",
       "    <tr style=\"text-align: right;\">\n",
       "      <th></th>\n",
       "      <th>Boroughs</th>\n",
       "      <th>Year</th>\n",
       "      <th>Average_price</th>\n",
       "    </tr>\n",
       "  </thead>\n",
       "  <tbody>\n",
       "    <tr>\n",
       "      <th>886</th>\n",
       "      <td>Westminster</td>\n",
       "      <td>2017</td>\n",
       "      <td>1.064772e+06</td>\n",
       "    </tr>\n",
       "    <tr>\n",
       "      <th>887</th>\n",
       "      <td>Westminster</td>\n",
       "      <td>2018</td>\n",
       "      <td>1.020025e+06</td>\n",
       "    </tr>\n",
       "    <tr>\n",
       "      <th>888</th>\n",
       "      <td>Westminster</td>\n",
       "      <td>2019</td>\n",
       "      <td>9.559986e+05</td>\n",
       "    </tr>\n",
       "    <tr>\n",
       "      <th>889</th>\n",
       "      <td>Westminster</td>\n",
       "      <td>2020</td>\n",
       "      <td>9.604692e+05</td>\n",
       "    </tr>\n",
       "    <tr>\n",
       "      <th>890</th>\n",
       "      <td>Westminster</td>\n",
       "      <td>2021</td>\n",
       "      <td>9.350438e+05</td>\n",
       "    </tr>\n",
       "  </tbody>\n",
       "</table>\n",
       "</div>"
      ],
      "text/plain": [
       "        Boroughs  Year  Average_price\n",
       "886  Westminster  2017   1.064772e+06\n",
       "887  Westminster  2018   1.020025e+06\n",
       "888  Westminster  2019   9.559986e+05\n",
       "889  Westminster  2020   9.604692e+05\n",
       "890  Westminster  2021   9.350438e+05"
      ]
     },
     "execution_count": 27,
     "metadata": {},
     "output_type": "execute_result"
    }
   ],
   "source": [
    "df.tail()"
   ]
  },
  {
   "cell_type": "code",
   "execution_count": 28,
   "id": "d4543fc4",
   "metadata": {},
   "outputs": [],
   "source": [
    "#modelling function for ration between 1998&2008\n",
    "def create_price_ratio(d):\n",
    "    year_1998 = float(d['Average_price'][d['Year']==1998])\n",
    "    year_2008 = float(d['Average_price'][d['Year']==2008])\n",
    "    ratio = [year_2008/year_1998]\n",
    "    return ratio\n"
   ]
  },
  {
   "cell_type": "code",
   "execution_count": 29,
   "id": "7a37fef9",
   "metadata": {},
   "outputs": [
    {
     "data": {
      "text/plain": [
       "[2.835202392776575]"
      ]
     },
     "execution_count": 29,
     "metadata": {},
     "output_type": "execute_result"
    }
   ],
   "source": [
    "create_price_ratio(df[df['Boroughs']=='Westminster'])\n"
   ]
  },
  {
   "cell_type": "code",
   "execution_count": 30,
   "id": "65c48d2c",
   "metadata": {
    "scrolled": true
   },
   "outputs": [
    {
     "name": "stdout",
     "output_type": "stream",
     "text": [
      "{'Barking & Dagenham': [3.1078098036410444]}\n",
      "{'Barking & Dagenham': [3.1078098036410444], 'Barnet': [2.6971620479893006]}\n",
      "{'Barking & Dagenham': [3.1078098036410444], 'Barnet': [2.6971620479893006], 'Bexley': [2.6068946499128787]}\n",
      "{'Barking & Dagenham': [3.1078098036410444], 'Barnet': [2.6971620479893006], 'Bexley': [2.6068946499128787], 'Brent': [2.9074424911031915]}\n",
      "{'Barking & Dagenham': [3.1078098036410444], 'Barnet': [2.6971620479893006], 'Bexley': [2.6068946499128787], 'Brent': [2.9074424911031915], 'Bromley': [2.564746932441681]}\n",
      "{'Barking & Dagenham': [3.1078098036410444], 'Barnet': [2.6971620479893006], 'Bexley': [2.6068946499128787], 'Brent': [2.9074424911031915], 'Bromley': [2.564746932441681], 'Camden': [2.9364710845105013]}\n",
      "{'Barking & Dagenham': [3.1078098036410444], 'Barnet': [2.6971620479893006], 'Bexley': [2.6068946499128787], 'Brent': [2.9074424911031915], 'Bromley': [2.564746932441681], 'Camden': [2.9364710845105013], 'City of London': [2.886518235071261]}\n",
      "{'Barking & Dagenham': [3.1078098036410444], 'Barnet': [2.6971620479893006], 'Bexley': [2.6068946499128787], 'Brent': [2.9074424911031915], 'Bromley': [2.564746932441681], 'Camden': [2.9364710845105013], 'City of London': [2.886518235071261], 'Croydon': [2.6774444880710266]}\n",
      "{'Barking & Dagenham': [3.1078098036410444], 'Barnet': [2.6971620479893006], 'Bexley': [2.6068946499128787], 'Brent': [2.9074424911031915], 'Bromley': [2.564746932441681], 'Camden': [2.9364710845105013], 'City of London': [2.886518235071261], 'Croydon': [2.6774444880710266], 'Ealing': [2.6523822700341766]}\n",
      "{'Barking & Dagenham': [3.1078098036410444], 'Barnet': [2.6971620479893006], 'Bexley': [2.6068946499128787], 'Brent': [2.9074424911031915], 'Bromley': [2.564746932441681], 'Camden': [2.9364710845105013], 'City of London': [2.886518235071261], 'Croydon': [2.6774444880710266], 'Ealing': [2.6523822700341766], 'Enfield': [2.642574871778285]}\n",
      "{'Barking & Dagenham': [3.1078098036410444], 'Barnet': [2.6971620479893006], 'Bexley': [2.6068946499128787], 'Brent': [2.9074424911031915], 'Bromley': [2.564746932441681], 'Camden': [2.9364710845105013], 'City of London': [2.886518235071261], 'Croydon': [2.6774444880710266], 'Ealing': [2.6523822700341766], 'Enfield': [2.642574871778285], 'Greenwich': [2.8348814973687486]}\n",
      "{'Barking & Dagenham': [3.1078098036410444], 'Barnet': [2.6971620479893006], 'Bexley': [2.6068946499128787], 'Brent': [2.9074424911031915], 'Bromley': [2.564746932441681], 'Camden': [2.9364710845105013], 'City of London': [2.886518235071261], 'Croydon': [2.6774444880710266], 'Ealing': [2.6523822700341766], 'Enfield': [2.642574871778285], 'Greenwich': [2.8348814973687486], 'Hackney': [3.5481071419887504]}\n",
      "{'Barking & Dagenham': [3.1078098036410444], 'Barnet': [2.6971620479893006], 'Bexley': [2.6068946499128787], 'Brent': [2.9074424911031915], 'Bromley': [2.564746932441681], 'Camden': [2.9364710845105013], 'City of London': [2.886518235071261], 'Croydon': [2.6774444880710266], 'Ealing': [2.6523822700341766], 'Enfield': [2.642574871778285], 'Greenwich': [2.8348814973687486], 'Hackney': [3.5481071419887504], 'Hammersmith & Fulham': [2.7087103128243655]}\n",
      "{'Barking & Dagenham': [3.1078098036410444], 'Barnet': [2.6971620479893006], 'Bexley': [2.6068946499128787], 'Brent': [2.9074424911031915], 'Bromley': [2.564746932441681], 'Camden': [2.9364710845105013], 'City of London': [2.886518235071261], 'Croydon': [2.6774444880710266], 'Ealing': [2.6523822700341766], 'Enfield': [2.642574871778285], 'Greenwich': [2.8348814973687486], 'Hackney': [3.5481071419887504], 'Hammersmith & Fulham': [2.7087103128243655], 'Haringey': [2.8243949584490875]}\n",
      "{'Barking & Dagenham': [3.1078098036410444], 'Barnet': [2.6971620479893006], 'Bexley': [2.6068946499128787], 'Brent': [2.9074424911031915], 'Bromley': [2.564746932441681], 'Camden': [2.9364710845105013], 'City of London': [2.886518235071261], 'Croydon': [2.6774444880710266], 'Ealing': [2.6523822700341766], 'Enfield': [2.642574871778285], 'Greenwich': [2.8348814973687486], 'Hackney': [3.5481071419887504], 'Hammersmith & Fulham': [2.7087103128243655], 'Haringey': [2.8243949584490875], 'Harrow': [2.5671244818060766]}\n",
      "{'Barking & Dagenham': [3.1078098036410444], 'Barnet': [2.6971620479893006], 'Bexley': [2.6068946499128787], 'Brent': [2.9074424911031915], 'Bromley': [2.564746932441681], 'Camden': [2.9364710845105013], 'City of London': [2.886518235071261], 'Croydon': [2.6774444880710266], 'Ealing': [2.6523822700341766], 'Enfield': [2.642574871778285], 'Greenwich': [2.8348814973687486], 'Hackney': [3.5481071419887504], 'Hammersmith & Fulham': [2.7087103128243655], 'Haringey': [2.8243949584490875], 'Harrow': [2.5671244818060766], 'Havering': [2.7040664917640966]}\n",
      "{'Barking & Dagenham': [3.1078098036410444], 'Barnet': [2.6971620479893006], 'Bexley': [2.6068946499128787], 'Brent': [2.9074424911031915], 'Bromley': [2.564746932441681], 'Camden': [2.9364710845105013], 'City of London': [2.886518235071261], 'Croydon': [2.6774444880710266], 'Ealing': [2.6523822700341766], 'Enfield': [2.642574871778285], 'Greenwich': [2.8348814973687486], 'Hackney': [3.5481071419887504], 'Hammersmith & Fulham': [2.7087103128243655], 'Haringey': [2.8243949584490875], 'Harrow': [2.5671244818060766], 'Havering': [2.7040664917640966], 'Hillingdon': [2.6166116571197806]}\n",
      "{'Barking & Dagenham': [3.1078098036410444], 'Barnet': [2.6971620479893006], 'Bexley': [2.6068946499128787], 'Brent': [2.9074424911031915], 'Bromley': [2.564746932441681], 'Camden': [2.9364710845105013], 'City of London': [2.886518235071261], 'Croydon': [2.6774444880710266], 'Ealing': [2.6523822700341766], 'Enfield': [2.642574871778285], 'Greenwich': [2.8348814973687486], 'Hackney': [3.5481071419887504], 'Hammersmith & Fulham': [2.7087103128243655], 'Haringey': [2.8243949584490875], 'Harrow': [2.5671244818060766], 'Havering': [2.7040664917640966], 'Hillingdon': [2.6166116571197806], 'Hounslow': [2.6361489367816096]}\n",
      "{'Barking & Dagenham': [3.1078098036410444], 'Barnet': [2.6971620479893006], 'Bexley': [2.6068946499128787], 'Brent': [2.9074424911031915], 'Bromley': [2.564746932441681], 'Camden': [2.9364710845105013], 'City of London': [2.886518235071261], 'Croydon': [2.6774444880710266], 'Ealing': [2.6523822700341766], 'Enfield': [2.642574871778285], 'Greenwich': [2.8348814973687486], 'Hackney': [3.5481071419887504], 'Hammersmith & Fulham': [2.7087103128243655], 'Haringey': [2.8243949584490875], 'Harrow': [2.5671244818060766], 'Havering': [2.7040664917640966], 'Hillingdon': [2.6166116571197806], 'Hounslow': [2.6361489367816096], 'Islington': [2.883304725660046]}\n",
      "{'Barking & Dagenham': [3.1078098036410444], 'Barnet': [2.6971620479893006], 'Bexley': [2.6068946499128787], 'Brent': [2.9074424911031915], 'Bromley': [2.564746932441681], 'Camden': [2.9364710845105013], 'City of London': [2.886518235071261], 'Croydon': [2.6774444880710266], 'Ealing': [2.6523822700341766], 'Enfield': [2.642574871778285], 'Greenwich': [2.8348814973687486], 'Hackney': [3.5481071419887504], 'Hammersmith & Fulham': [2.7087103128243655], 'Haringey': [2.8243949584490875], 'Harrow': [2.5671244818060766], 'Havering': [2.7040664917640966], 'Hillingdon': [2.6166116571197806], 'Hounslow': [2.6361489367816096], 'Islington': [2.883304725660046], 'Kensington & Chelsea': [2.924666661827239]}\n",
      "{'Barking & Dagenham': [3.1078098036410444], 'Barnet': [2.6971620479893006], 'Bexley': [2.6068946499128787], 'Brent': [2.9074424911031915], 'Bromley': [2.564746932441681], 'Camden': [2.9364710845105013], 'City of London': [2.886518235071261], 'Croydon': [2.6774444880710266], 'Ealing': [2.6523822700341766], 'Enfield': [2.642574871778285], 'Greenwich': [2.8348814973687486], 'Hackney': [3.5481071419887504], 'Hammersmith & Fulham': [2.7087103128243655], 'Haringey': [2.8243949584490875], 'Harrow': [2.5671244818060766], 'Havering': [2.7040664917640966], 'Hillingdon': [2.6166116571197806], 'Hounslow': [2.6361489367816096], 'Islington': [2.883304725660046], 'Kensington & Chelsea': [2.924666661827239], 'Kingston upon Thames': [2.666641124185695]}\n",
      "{'Barking & Dagenham': [3.1078098036410444], 'Barnet': [2.6971620479893006], 'Bexley': [2.6068946499128787], 'Brent': [2.9074424911031915], 'Bromley': [2.564746932441681], 'Camden': [2.9364710845105013], 'City of London': [2.886518235071261], 'Croydon': [2.6774444880710266], 'Ealing': [2.6523822700341766], 'Enfield': [2.642574871778285], 'Greenwich': [2.8348814973687486], 'Hackney': [3.5481071419887504], 'Hammersmith & Fulham': [2.7087103128243655], 'Haringey': [2.8243949584490875], 'Harrow': [2.5671244818060766], 'Havering': [2.7040664917640966], 'Hillingdon': [2.6166116571197806], 'Hounslow': [2.6361489367816096], 'Islington': [2.883304725660046], 'Kensington & Chelsea': [2.924666661827239], 'Kingston upon Thames': [2.666641124185695], 'Lambeth': [2.863718142223564]}\n",
      "{'Barking & Dagenham': [3.1078098036410444], 'Barnet': [2.6971620479893006], 'Bexley': [2.6068946499128787], 'Brent': [2.9074424911031915], 'Bromley': [2.564746932441681], 'Camden': [2.9364710845105013], 'City of London': [2.886518235071261], 'Croydon': [2.6774444880710266], 'Ealing': [2.6523822700341766], 'Enfield': [2.642574871778285], 'Greenwich': [2.8348814973687486], 'Hackney': [3.5481071419887504], 'Hammersmith & Fulham': [2.7087103128243655], 'Haringey': [2.8243949584490875], 'Harrow': [2.5671244818060766], 'Havering': [2.7040664917640966], 'Hillingdon': [2.6166116571197806], 'Hounslow': [2.6361489367816096], 'Islington': [2.883304725660046], 'Kensington & Chelsea': [2.924666661827239], 'Kingston upon Thames': [2.666641124185695], 'Lambeth': [2.863718142223564], 'Lewisham': [3.0617759615804165]}\n",
      "{'Barking & Dagenham': [3.1078098036410444], 'Barnet': [2.6971620479893006], 'Bexley': [2.6068946499128787], 'Brent': [2.9074424911031915], 'Bromley': [2.564746932441681], 'Camden': [2.9364710845105013], 'City of London': [2.886518235071261], 'Croydon': [2.6774444880710266], 'Ealing': [2.6523822700341766], 'Enfield': [2.642574871778285], 'Greenwich': [2.8348814973687486], 'Hackney': [3.5481071419887504], 'Hammersmith & Fulham': [2.7087103128243655], 'Haringey': [2.8243949584490875], 'Harrow': [2.5671244818060766], 'Havering': [2.7040664917640966], 'Hillingdon': [2.6166116571197806], 'Hounslow': [2.6361489367816096], 'Islington': [2.883304725660046], 'Kensington & Chelsea': [2.924666661827239], 'Kingston upon Thames': [2.666641124185695], 'Lambeth': [2.863718142223564], 'Lewisham': [3.0617759615804165], 'Merton': [2.782738586973089]}\n",
      "{'Barking & Dagenham': [3.1078098036410444], 'Barnet': [2.6971620479893006], 'Bexley': [2.6068946499128787], 'Brent': [2.9074424911031915], 'Bromley': [2.564746932441681], 'Camden': [2.9364710845105013], 'City of London': [2.886518235071261], 'Croydon': [2.6774444880710266], 'Ealing': [2.6523822700341766], 'Enfield': [2.642574871778285], 'Greenwich': [2.8348814973687486], 'Hackney': [3.5481071419887504], 'Hammersmith & Fulham': [2.7087103128243655], 'Haringey': [2.8243949584490875], 'Harrow': [2.5671244818060766], 'Havering': [2.7040664917640966], 'Hillingdon': [2.6166116571197806], 'Hounslow': [2.6361489367816096], 'Islington': [2.883304725660046], 'Kensington & Chelsea': [2.924666661827239], 'Kingston upon Thames': [2.666641124185695], 'Lambeth': [2.863718142223564], 'Lewisham': [3.0617759615804165], 'Merton': [2.782738586973089], 'Newham': [3.2771425845539093]}\n",
      "{'Barking & Dagenham': [3.1078098036410444], 'Barnet': [2.6971620479893006], 'Bexley': [2.6068946499128787], 'Brent': [2.9074424911031915], 'Bromley': [2.564746932441681], 'Camden': [2.9364710845105013], 'City of London': [2.886518235071261], 'Croydon': [2.6774444880710266], 'Ealing': [2.6523822700341766], 'Enfield': [2.642574871778285], 'Greenwich': [2.8348814973687486], 'Hackney': [3.5481071419887504], 'Hammersmith & Fulham': [2.7087103128243655], 'Haringey': [2.8243949584490875], 'Harrow': [2.5671244818060766], 'Havering': [2.7040664917640966], 'Hillingdon': [2.6166116571197806], 'Hounslow': [2.6361489367816096], 'Islington': [2.883304725660046], 'Kensington & Chelsea': [2.924666661827239], 'Kingston upon Thames': [2.666641124185695], 'Lambeth': [2.863718142223564], 'Lewisham': [3.0617759615804165], 'Merton': [2.782738586973089], 'Newham': [3.2771425845539093], 'Redbridge': [2.797769161701061]}\n",
      "{'Barking & Dagenham': [3.1078098036410444], 'Barnet': [2.6971620479893006], 'Bexley': [2.6068946499128787], 'Brent': [2.9074424911031915], 'Bromley': [2.564746932441681], 'Camden': [2.9364710845105013], 'City of London': [2.886518235071261], 'Croydon': [2.6774444880710266], 'Ealing': [2.6523822700341766], 'Enfield': [2.642574871778285], 'Greenwich': [2.8348814973687486], 'Hackney': [3.5481071419887504], 'Hammersmith & Fulham': [2.7087103128243655], 'Haringey': [2.8243949584490875], 'Harrow': [2.5671244818060766], 'Havering': [2.7040664917640966], 'Hillingdon': [2.6166116571197806], 'Hounslow': [2.6361489367816096], 'Islington': [2.883304725660046], 'Kensington & Chelsea': [2.924666661827239], 'Kingston upon Thames': [2.666641124185695], 'Lambeth': [2.863718142223564], 'Lewisham': [3.0617759615804165], 'Merton': [2.782738586973089], 'Newham': [3.2771425845539093], 'Redbridge': [2.797769161701061], 'Richmond upon Thames': [2.512266238908795]}\n",
      "{'Barking & Dagenham': [3.1078098036410444], 'Barnet': [2.6971620479893006], 'Bexley': [2.6068946499128787], 'Brent': [2.9074424911031915], 'Bromley': [2.564746932441681], 'Camden': [2.9364710845105013], 'City of London': [2.886518235071261], 'Croydon': [2.6774444880710266], 'Ealing': [2.6523822700341766], 'Enfield': [2.642574871778285], 'Greenwich': [2.8348814973687486], 'Hackney': [3.5481071419887504], 'Hammersmith & Fulham': [2.7087103128243655], 'Haringey': [2.8243949584490875], 'Harrow': [2.5671244818060766], 'Havering': [2.7040664917640966], 'Hillingdon': [2.6166116571197806], 'Hounslow': [2.6361489367816096], 'Islington': [2.883304725660046], 'Kensington & Chelsea': [2.924666661827239], 'Kingston upon Thames': [2.666641124185695], 'Lambeth': [2.863718142223564], 'Lewisham': [3.0617759615804165], 'Merton': [2.782738586973089], 'Newham': [3.2771425845539093], 'Redbridge': [2.797769161701061], 'Richmond upon Thames': [2.512266238908795], 'Southwark': [3.185960983821834]}\n",
      "{'Barking & Dagenham': [3.1078098036410444], 'Barnet': [2.6971620479893006], 'Bexley': [2.6068946499128787], 'Brent': [2.9074424911031915], 'Bromley': [2.564746932441681], 'Camden': [2.9364710845105013], 'City of London': [2.886518235071261], 'Croydon': [2.6774444880710266], 'Ealing': [2.6523822700341766], 'Enfield': [2.642574871778285], 'Greenwich': [2.8348814973687486], 'Hackney': [3.5481071419887504], 'Hammersmith & Fulham': [2.7087103128243655], 'Haringey': [2.8243949584490875], 'Harrow': [2.5671244818060766], 'Havering': [2.7040664917640966], 'Hillingdon': [2.6166116571197806], 'Hounslow': [2.6361489367816096], 'Islington': [2.883304725660046], 'Kensington & Chelsea': [2.924666661827239], 'Kingston upon Thames': [2.666641124185695], 'Lambeth': [2.863718142223564], 'Lewisham': [3.0617759615804165], 'Merton': [2.782738586973089], 'Newham': [3.2771425845539093], 'Redbridge': [2.797769161701061], 'Richmond upon Thames': [2.512266238908795], 'Southwark': [3.185960983821834], 'Sutton': [2.635570605395638]}\n",
      "{'Barking & Dagenham': [3.1078098036410444], 'Barnet': [2.6971620479893006], 'Bexley': [2.6068946499128787], 'Brent': [2.9074424911031915], 'Bromley': [2.564746932441681], 'Camden': [2.9364710845105013], 'City of London': [2.886518235071261], 'Croydon': [2.6774444880710266], 'Ealing': [2.6523822700341766], 'Enfield': [2.642574871778285], 'Greenwich': [2.8348814973687486], 'Hackney': [3.5481071419887504], 'Hammersmith & Fulham': [2.7087103128243655], 'Haringey': [2.8243949584490875], 'Harrow': [2.5671244818060766], 'Havering': [2.7040664917640966], 'Hillingdon': [2.6166116571197806], 'Hounslow': [2.6361489367816096], 'Islington': [2.883304725660046], 'Kensington & Chelsea': [2.924666661827239], 'Kingston upon Thames': [2.666641124185695], 'Lambeth': [2.863718142223564], 'Lewisham': [3.0617759615804165], 'Merton': [2.782738586973089], 'Newham': [3.2771425845539093], 'Redbridge': [2.797769161701061], 'Richmond upon Thames': [2.512266238908795], 'Southwark': [3.185960983821834], 'Sutton': [2.635570605395638], 'Tower Hamlets': [3.0879405280843115]}\n",
      "{'Barking & Dagenham': [3.1078098036410444], 'Barnet': [2.6971620479893006], 'Bexley': [2.6068946499128787], 'Brent': [2.9074424911031915], 'Bromley': [2.564746932441681], 'Camden': [2.9364710845105013], 'City of London': [2.886518235071261], 'Croydon': [2.6774444880710266], 'Ealing': [2.6523822700341766], 'Enfield': [2.642574871778285], 'Greenwich': [2.8348814973687486], 'Hackney': [3.5481071419887504], 'Hammersmith & Fulham': [2.7087103128243655], 'Haringey': [2.8243949584490875], 'Harrow': [2.5671244818060766], 'Havering': [2.7040664917640966], 'Hillingdon': [2.6166116571197806], 'Hounslow': [2.6361489367816096], 'Islington': [2.883304725660046], 'Kensington & Chelsea': [2.924666661827239], 'Kingston upon Thames': [2.666641124185695], 'Lambeth': [2.863718142223564], 'Lewisham': [3.0617759615804165], 'Merton': [2.782738586973089], 'Newham': [3.2771425845539093], 'Redbridge': [2.797769161701061], 'Richmond upon Thames': [2.512266238908795], 'Southwark': [3.185960983821834], 'Sutton': [2.635570605395638], 'Tower Hamlets': [3.0879405280843115], 'Waltham Forest': [3.08224269958837]}\n",
      "{'Barking & Dagenham': [3.1078098036410444], 'Barnet': [2.6971620479893006], 'Bexley': [2.6068946499128787], 'Brent': [2.9074424911031915], 'Bromley': [2.564746932441681], 'Camden': [2.9364710845105013], 'City of London': [2.886518235071261], 'Croydon': [2.6774444880710266], 'Ealing': [2.6523822700341766], 'Enfield': [2.642574871778285], 'Greenwich': [2.8348814973687486], 'Hackney': [3.5481071419887504], 'Hammersmith & Fulham': [2.7087103128243655], 'Haringey': [2.8243949584490875], 'Harrow': [2.5671244818060766], 'Havering': [2.7040664917640966], 'Hillingdon': [2.6166116571197806], 'Hounslow': [2.6361489367816096], 'Islington': [2.883304725660046], 'Kensington & Chelsea': [2.924666661827239], 'Kingston upon Thames': [2.666641124185695], 'Lambeth': [2.863718142223564], 'Lewisham': [3.0617759615804165], 'Merton': [2.782738586973089], 'Newham': [3.2771425845539093], 'Redbridge': [2.797769161701061], 'Richmond upon Thames': [2.512266238908795], 'Southwark': [3.185960983821834], 'Sutton': [2.635570605395638], 'Tower Hamlets': [3.0879405280843115], 'Waltham Forest': [3.08224269958837], 'Wandsworth': [2.9010992742449524]}\n",
      "{'Barking & Dagenham': [3.1078098036410444], 'Barnet': [2.6971620479893006], 'Bexley': [2.6068946499128787], 'Brent': [2.9074424911031915], 'Bromley': [2.564746932441681], 'Camden': [2.9364710845105013], 'City of London': [2.886518235071261], 'Croydon': [2.6774444880710266], 'Ealing': [2.6523822700341766], 'Enfield': [2.642574871778285], 'Greenwich': [2.8348814973687486], 'Hackney': [3.5481071419887504], 'Hammersmith & Fulham': [2.7087103128243655], 'Haringey': [2.8243949584490875], 'Harrow': [2.5671244818060766], 'Havering': [2.7040664917640966], 'Hillingdon': [2.6166116571197806], 'Hounslow': [2.6361489367816096], 'Islington': [2.883304725660046], 'Kensington & Chelsea': [2.924666661827239], 'Kingston upon Thames': [2.666641124185695], 'Lambeth': [2.863718142223564], 'Lewisham': [3.0617759615804165], 'Merton': [2.782738586973089], 'Newham': [3.2771425845539093], 'Redbridge': [2.797769161701061], 'Richmond upon Thames': [2.512266238908795], 'Southwark': [3.185960983821834], 'Sutton': [2.635570605395638], 'Tower Hamlets': [3.0879405280843115], 'Waltham Forest': [3.08224269958837], 'Wandsworth': [2.9010992742449524], 'Westminster': [2.835202392776575]}\n"
     ]
    }
   ],
   "source": [
    "Final = {}\n",
    "for i in df['Boroughs'].unique():\n",
    "    borough = df[df['Boroughs']== i]\n",
    "    Final[i] = create_price_ratio(borough)\n",
    "    print(Final)"
   ]
  },
  {
   "cell_type": "code",
   "execution_count": 31,
   "id": "c62cadcc",
   "metadata": {},
   "outputs": [],
   "source": [
    "df_ratios = pd.DataFrame(Final)"
   ]
  },
  {
   "cell_type": "code",
   "execution_count": 32,
   "id": "15b651d3",
   "metadata": {
    "scrolled": true
   },
   "outputs": [
    {
     "data": {
      "text/html": [
       "<div>\n",
       "<style scoped>\n",
       "    .dataframe tbody tr th:only-of-type {\n",
       "        vertical-align: middle;\n",
       "    }\n",
       "\n",
       "    .dataframe tbody tr th {\n",
       "        vertical-align: top;\n",
       "    }\n",
       "\n",
       "    .dataframe thead th {\n",
       "        text-align: right;\n",
       "    }\n",
       "</style>\n",
       "<table border=\"1\" class=\"dataframe\">\n",
       "  <thead>\n",
       "    <tr style=\"text-align: right;\">\n",
       "      <th></th>\n",
       "      <th>Barking &amp; Dagenham</th>\n",
       "      <th>Barnet</th>\n",
       "      <th>Bexley</th>\n",
       "      <th>Brent</th>\n",
       "      <th>Bromley</th>\n",
       "      <th>Camden</th>\n",
       "      <th>City of London</th>\n",
       "      <th>Croydon</th>\n",
       "      <th>Ealing</th>\n",
       "      <th>Enfield</th>\n",
       "      <th>...</th>\n",
       "      <th>Merton</th>\n",
       "      <th>Newham</th>\n",
       "      <th>Redbridge</th>\n",
       "      <th>Richmond upon Thames</th>\n",
       "      <th>Southwark</th>\n",
       "      <th>Sutton</th>\n",
       "      <th>Tower Hamlets</th>\n",
       "      <th>Waltham Forest</th>\n",
       "      <th>Wandsworth</th>\n",
       "      <th>Westminster</th>\n",
       "    </tr>\n",
       "  </thead>\n",
       "  <tbody>\n",
       "    <tr>\n",
       "      <th>0</th>\n",
       "      <td>3.10781</td>\n",
       "      <td>2.697162</td>\n",
       "      <td>2.606895</td>\n",
       "      <td>2.907442</td>\n",
       "      <td>2.564747</td>\n",
       "      <td>2.936471</td>\n",
       "      <td>2.886518</td>\n",
       "      <td>2.677444</td>\n",
       "      <td>2.652382</td>\n",
       "      <td>2.642575</td>\n",
       "      <td>...</td>\n",
       "      <td>2.782739</td>\n",
       "      <td>3.277143</td>\n",
       "      <td>2.797769</td>\n",
       "      <td>2.512266</td>\n",
       "      <td>3.185961</td>\n",
       "      <td>2.635571</td>\n",
       "      <td>3.087941</td>\n",
       "      <td>3.082243</td>\n",
       "      <td>2.901099</td>\n",
       "      <td>2.835202</td>\n",
       "    </tr>\n",
       "  </tbody>\n",
       "</table>\n",
       "<p>1 rows × 33 columns</p>\n",
       "</div>"
      ],
      "text/plain": [
       "   Barking & Dagenham    Barnet    Bexley     Brent   Bromley    Camden  \\\n",
       "0             3.10781  2.697162  2.606895  2.907442  2.564747  2.936471   \n",
       "\n",
       "   City of London   Croydon    Ealing   Enfield  ...    Merton    Newham  \\\n",
       "0        2.886518  2.677444  2.652382  2.642575  ...  2.782739  3.277143   \n",
       "\n",
       "   Redbridge  Richmond upon Thames  Southwark    Sutton  Tower Hamlets  \\\n",
       "0   2.797769              2.512266   3.185961  2.635571       3.087941   \n",
       "\n",
       "   Waltham Forest  Wandsworth  Westminster  \n",
       "0        3.082243    2.901099     2.835202  \n",
       "\n",
       "[1 rows x 33 columns]"
      ]
     },
     "execution_count": 32,
     "metadata": {},
     "output_type": "execute_result"
    }
   ],
   "source": [
    "df_ratios.head()\n"
   ]
  },
  {
   "cell_type": "code",
   "execution_count": 33,
   "id": "14528d78",
   "metadata": {},
   "outputs": [],
   "source": [
    "df_new=df_ratios.T.reset_index()"
   ]
  },
  {
   "cell_type": "code",
   "execution_count": 34,
   "id": "211d4a51",
   "metadata": {
    "scrolled": true
   },
   "outputs": [],
   "source": [
    "df_new=df_new.rename(columns = {'index':'London_Boroughs',0:'2018'})"
   ]
  },
  {
   "cell_type": "code",
   "execution_count": 35,
   "id": "7bf4e5af",
   "metadata": {},
   "outputs": [
    {
     "data": {
      "text/html": [
       "<div>\n",
       "<style scoped>\n",
       "    .dataframe tbody tr th:only-of-type {\n",
       "        vertical-align: middle;\n",
       "    }\n",
       "\n",
       "    .dataframe tbody tr th {\n",
       "        vertical-align: top;\n",
       "    }\n",
       "\n",
       "    .dataframe thead th {\n",
       "        text-align: right;\n",
       "    }\n",
       "</style>\n",
       "<table border=\"1\" class=\"dataframe\">\n",
       "  <thead>\n",
       "    <tr style=\"text-align: right;\">\n",
       "      <th></th>\n",
       "      <th>London_Boroughs</th>\n",
       "      <th>2018</th>\n",
       "    </tr>\n",
       "  </thead>\n",
       "  <tbody>\n",
       "    <tr>\n",
       "      <th>0</th>\n",
       "      <td>Barking &amp; Dagenham</td>\n",
       "      <td>3.107810</td>\n",
       "    </tr>\n",
       "    <tr>\n",
       "      <th>1</th>\n",
       "      <td>Barnet</td>\n",
       "      <td>2.697162</td>\n",
       "    </tr>\n",
       "    <tr>\n",
       "      <th>2</th>\n",
       "      <td>Bexley</td>\n",
       "      <td>2.606895</td>\n",
       "    </tr>\n",
       "    <tr>\n",
       "      <th>3</th>\n",
       "      <td>Brent</td>\n",
       "      <td>2.907442</td>\n",
       "    </tr>\n",
       "    <tr>\n",
       "      <th>4</th>\n",
       "      <td>Bromley</td>\n",
       "      <td>2.564747</td>\n",
       "    </tr>\n",
       "  </tbody>\n",
       "</table>\n",
       "</div>"
      ],
      "text/plain": [
       "      London_Boroughs      2018\n",
       "0  Barking & Dagenham  3.107810\n",
       "1              Barnet  2.697162\n",
       "2              Bexley  2.606895\n",
       "3               Brent  2.907442\n",
       "4             Bromley  2.564747"
      ]
     },
     "execution_count": 35,
     "metadata": {},
     "output_type": "execute_result"
    }
   ],
   "source": [
    "df_new.head()"
   ]
  },
  {
   "cell_type": "code",
   "execution_count": 36,
   "id": "4a3b7459",
   "metadata": {},
   "outputs": [
    {
     "data": {
      "text/plain": [
       "<AxesSubplot:xlabel='London_Boroughs'>"
      ]
     },
     "execution_count": 36,
     "metadata": {},
     "output_type": "execute_result"
    },
    {
     "data": {
      "image/png": "[encoded data removed]",
      "text/plain": [
       "<Figure size 432x288 with 1 Axes>"
      ]
     },
     "metadata": {
      "needs_background": "light"
     },
     "output_type": "display_data"
    }
   ],
   "source": [
    "df_new.plot(x='London_Boroughs',y='2018',kind='bar')"
   ]
  },
  {
   "cell_type": "code",
   "execution_count": 37,
   "id": "f9d4bca6",
   "metadata": {},
   "outputs": [
    {
     "data": {
      "text/html": [
       "<div>\n",
       "<style scoped>\n",
       "    .dataframe tbody tr th:only-of-type {\n",
       "        vertical-align: middle;\n",
       "    }\n",
       "\n",
       "    .dataframe tbody tr th {\n",
       "        vertical-align: top;\n",
       "    }\n",
       "\n",
       "    .dataframe thead th {\n",
       "        text-align: right;\n",
       "    }\n",
       "</style>\n",
       "<table border=\"1\" class=\"dataframe\">\n",
       "  <thead>\n",
       "    <tr style=\"text-align: right;\">\n",
       "      <th></th>\n",
       "      <th>London_Boroughs</th>\n",
       "      <th>2018</th>\n",
       "    </tr>\n",
       "  </thead>\n",
       "  <tbody>\n",
       "    <tr>\n",
       "      <th>11</th>\n",
       "      <td>Hackney</td>\n",
       "      <td>3.548107</td>\n",
       "    </tr>\n",
       "    <tr>\n",
       "      <th>24</th>\n",
       "      <td>Newham</td>\n",
       "      <td>3.277143</td>\n",
       "    </tr>\n",
       "    <tr>\n",
       "      <th>27</th>\n",
       "      <td>Southwark</td>\n",
       "      <td>3.185961</td>\n",
       "    </tr>\n",
       "    <tr>\n",
       "      <th>0</th>\n",
       "      <td>Barking &amp; Dagenham</td>\n",
       "      <td>3.107810</td>\n",
       "    </tr>\n",
       "    <tr>\n",
       "      <th>29</th>\n",
       "      <td>Tower Hamlets</td>\n",
       "      <td>3.087941</td>\n",
       "    </tr>\n",
       "    <tr>\n",
       "      <th>30</th>\n",
       "      <td>Waltham Forest</td>\n",
       "      <td>3.082243</td>\n",
       "    </tr>\n",
       "    <tr>\n",
       "      <th>22</th>\n",
       "      <td>Lewisham</td>\n",
       "      <td>3.061776</td>\n",
       "    </tr>\n",
       "    <tr>\n",
       "      <th>5</th>\n",
       "      <td>Camden</td>\n",
       "      <td>2.936471</td>\n",
       "    </tr>\n",
       "    <tr>\n",
       "      <th>19</th>\n",
       "      <td>Kensington &amp; Chelsea</td>\n",
       "      <td>2.924667</td>\n",
       "    </tr>\n",
       "    <tr>\n",
       "      <th>3</th>\n",
       "      <td>Brent</td>\n",
       "      <td>2.907442</td>\n",
       "    </tr>\n",
       "    <tr>\n",
       "      <th>31</th>\n",
       "      <td>Wandsworth</td>\n",
       "      <td>2.901099</td>\n",
       "    </tr>\n",
       "    <tr>\n",
       "      <th>6</th>\n",
       "      <td>City of London</td>\n",
       "      <td>2.886518</td>\n",
       "    </tr>\n",
       "    <tr>\n",
       "      <th>18</th>\n",
       "      <td>Islington</td>\n",
       "      <td>2.883305</td>\n",
       "    </tr>\n",
       "    <tr>\n",
       "      <th>21</th>\n",
       "      <td>Lambeth</td>\n",
       "      <td>2.863718</td>\n",
       "    </tr>\n",
       "    <tr>\n",
       "      <th>32</th>\n",
       "      <td>Westminster</td>\n",
       "      <td>2.835202</td>\n",
       "    </tr>\n",
       "  </tbody>\n",
       "</table>\n",
       "</div>"
      ],
      "text/plain": [
       "         London_Boroughs      2018\n",
       "11               Hackney  3.548107\n",
       "24                Newham  3.277143\n",
       "27             Southwark  3.185961\n",
       "0     Barking & Dagenham  3.107810\n",
       "29         Tower Hamlets  3.087941\n",
       "30        Waltham Forest  3.082243\n",
       "22              Lewisham  3.061776\n",
       "5                 Camden  2.936471\n",
       "19  Kensington & Chelsea  2.924667\n",
       "3                  Brent  2.907442\n",
       "31            Wandsworth  2.901099\n",
       "6         City of London  2.886518\n",
       "18             Islington  2.883305\n",
       "21               Lambeth  2.863718\n",
       "32           Westminster  2.835202"
      ]
     },
     "execution_count": 37,
     "metadata": {},
     "output_type": "execute_result"
    }
   ],
   "source": [
    "df_new = df_new.sort_values(by='2018',ascending = False)\n",
    "df_new.head(15)"
   ]
  },
  {
   "cell_type": "code",
   "execution_count": 38,
   "id": "63c54a12",
   "metadata": {},
   "outputs": [
    {
     "data": {
      "image/png": "[encoded data removed]",
      "text/plain": [
       "<Figure size 432x288 with 1 Axes>"
      ]
     },
     "metadata": {
      "needs_background": "light"
     },
     "output_type": "display_data"
    }
   ],
   "source": [
    "data_plot=df_new.plot(x='London_Boroughs',y='2018',kind='bar',xlabel='London Boroughs',ylabel='Cost_ratio',title='London Housing Market Inflation')"
   ]
  },
  {
   "cell_type": "code",
   "execution_count": 39,
   "id": "f32e4ea2",
   "metadata": {},
   "outputs": [],
   "source": [
    "top15 = df_new.head(15)"
   ]
  },
  {
   "cell_type": "code",
   "execution_count": 40,
   "id": "01c8f53e",
   "metadata": {},
   "outputs": [
    {
     "data": {
      "image/png": "[encoded data removed]",
      "text/plain": [
       "<Figure size 432x288 with 1 Axes>"
      ]
     },
     "metadata": {
      "needs_background": "light"
     },
     "output_type": "display_data"
    }
   ],
   "source": [
    "top15_plot=top15.plot(x='London_Boroughs',y='2018',kind='bar',xlabel='London Boroughs',ylabel='Cost_ratio',title='London Housing Market Inflation')"
   ]
  }
 ],
 "metadata": {
  "kernelspec": {
   "display_name": "Python 3 (ipykernel)",
   "language": "python",
   "name": "python3"
  },
  "language_info": {
   "codemirror_mode": {
    "name": "ipython",
    "version": 3
   },
   "file_extension": ".py",
   "mimetype": "text/x-python",
   "name": "python",
   "nbconvert_exporter": "python",
   "pygments_lexer": "ipython3",
   "version": "3.8.12"
  }
 },
 "nbformat": 4,
 "nbformat_minor": 5
}
